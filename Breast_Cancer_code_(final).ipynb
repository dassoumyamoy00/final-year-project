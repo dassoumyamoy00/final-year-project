{
  "nbformat": 4,
  "nbformat_minor": 0,
  "metadata": {
    "colab": {
      "name": "Breast Cancer code (final).ipynb",
      "provenance": [],
      "collapsed_sections": []
    },
    "kernelspec": {
      "name": "python3",
      "display_name": "Python 3"
    },
    "language_info": {
      "name": "python"
    }
  },
  "cells": [
    {
      "cell_type": "markdown",
      "source": [
        "\n",
        "\n",
        "\n",
        "# **Deep Learning Algorithm to Detect Breast Cancer**\n",
        "---\n",
        "<br>\n",
        "\n",
        "Using Artifical Neural Network to create a Deep Learning model for the detection of Breast Cancer.\n",
        "<br>\n",
        "<br>\n",
        "\n",
        "Data set used: [WDBC DataSet](https://www.kaggle.com/datasets/uciml/breast-cancer-wisconsin-data?select=data.csv)\n",
        "\n",
        "<br>\n",
        "\n",
        "*Please Note: To execute the code, download the dataset from the above link and upload it in the files section of the present Google Colab runtime session.*\n",
        "\n",
        "<br>\n",
        "\n",
        "Contributed by:\n",
        "\n",
        "*   Soumyamoy Das\n",
        "\n",
        "<br>\n",
        "\n",
        "Supervisor: Dr. Parama Bagchi\n",
        "\n",
        "<br>\n",
        "<!-- (RCCIIT B.Tech Final Year Project CSE 2022) -->\n",
        "\n",
        "<!-- <br> -->\n",
        "Completed on: 30th April 2022\n",
        "\n",
        "<br>\n",
        "\n",
        "(RCCIIT B.Tech Final Year Project CSE 2022)\n",
        "<br><br>"
      ],
      "metadata": {
        "id": "C7cf8cbhF3pb"
      }
    },
    {
      "cell_type": "code",
      "source": [
        "# importing necessary libraries\n",
        "\n",
        "import pandas as pd\n",
        "from matplotlib import pyplot as plt\n",
        "import seaborn as sns\n",
        "import numpy as np"
      ],
      "metadata": {
        "id": "LZ7VN4IS7ilm"
      },
      "execution_count": null,
      "outputs": []
    },
    {
      "cell_type": "code",
      "source": [
        "# for importing dataset from drive\n",
        "# from google.colab import drive\n",
        "# drive.mount('/content/drive')"
      ],
      "metadata": {
        "id": "FjiZagetbB8l"
      },
      "execution_count": null,
      "outputs": []
    },
    {
      "cell_type": "code",
      "source": [
        "# importing dataset\n",
        "\n",
        "df=pd.read_csv(\"/data.csv\")"
      ],
      "metadata": {
        "id": "Rsk7v_ed7s8K"
      },
      "execution_count": null,
      "outputs": []
    },
    {
      "cell_type": "code",
      "source": [
        "# print attributes' description\n",
        "\n",
        "print(df.describe().T)"
      ],
      "metadata": {
        "id": "HfMJdGoFOXD-",
        "colab": {
          "base_uri": "https://localhost:8080/"
        },
        "outputId": "8f6eae47-b214-406a-bd66-070d70f7076a"
      },
      "execution_count": null,
      "outputs": [
        {
          "output_type": "stream",
          "name": "stdout",
          "text": [
            "                         count          mean           std          min  \\\n",
            "id                       569.0  3.037183e+07  1.250206e+08  8670.000000   \n",
            "radius_mean              569.0  1.412729e+01  3.524049e+00     6.981000   \n",
            "texture_mean             569.0  1.928965e+01  4.301036e+00     9.710000   \n",
            "perimeter_mean           569.0  9.196903e+01  2.429898e+01    43.790000   \n",
            "area_mean                569.0  6.548891e+02  3.519141e+02   143.500000   \n",
            "smoothness_mean          569.0  9.636028e-02  1.406413e-02     0.052630   \n",
            "compactness_mean         569.0  1.043410e-01  5.281276e-02     0.019380   \n",
            "concavity_mean           569.0  8.879932e-02  7.971981e-02     0.000000   \n",
            "concave points_mean      569.0  4.891915e-02  3.880284e-02     0.000000   \n",
            "symmetry_mean            569.0  1.811619e-01  2.741428e-02     0.106000   \n",
            "fractal_dimension_mean   569.0  6.279761e-02  7.060363e-03     0.049960   \n",
            "radius_se                569.0  4.051721e-01  2.773127e-01     0.111500   \n",
            "texture_se               569.0  1.216853e+00  5.516484e-01     0.360200   \n",
            "perimeter_se             569.0  2.866059e+00  2.021855e+00     0.757000   \n",
            "area_se                  569.0  4.033708e+01  4.549101e+01     6.802000   \n",
            "smoothness_se            569.0  7.040979e-03  3.002518e-03     0.001713   \n",
            "compactness_se           569.0  2.547814e-02  1.790818e-02     0.002252   \n",
            "concavity_se             569.0  3.189372e-02  3.018606e-02     0.000000   \n",
            "concave points_se        569.0  1.179614e-02  6.170285e-03     0.000000   \n",
            "symmetry_se              569.0  2.054230e-02  8.266372e-03     0.007882   \n",
            "fractal_dimension_se     569.0  3.794904e-03  2.646071e-03     0.000895   \n",
            "radius_worst             569.0  1.626919e+01  4.833242e+00     7.930000   \n",
            "texture_worst            569.0  2.567722e+01  6.146258e+00    12.020000   \n",
            "perimeter_worst          569.0  1.072612e+02  3.360254e+01    50.410000   \n",
            "area_worst               569.0  8.805831e+02  5.693570e+02   185.200000   \n",
            "smoothness_worst         569.0  1.323686e-01  2.283243e-02     0.071170   \n",
            "compactness_worst        569.0  2.542650e-01  1.573365e-01     0.027290   \n",
            "concavity_worst          569.0  2.721885e-01  2.086243e-01     0.000000   \n",
            "concave points_worst     569.0  1.146062e-01  6.573234e-02     0.000000   \n",
            "symmetry_worst           569.0  2.900756e-01  6.186747e-02     0.156500   \n",
            "fractal_dimension_worst  569.0  8.394582e-02  1.806127e-02     0.055040   \n",
            "Unnamed: 32                0.0           NaN           NaN          NaN   \n",
            "\n",
            "                                   25%            50%           75%  \\\n",
            "id                       869218.000000  906024.000000  8.813129e+06   \n",
            "radius_mean                  11.700000      13.370000  1.578000e+01   \n",
            "texture_mean                 16.170000      18.840000  2.180000e+01   \n",
            "perimeter_mean               75.170000      86.240000  1.041000e+02   \n",
            "area_mean                   420.300000     551.100000  7.827000e+02   \n",
            "smoothness_mean               0.086370       0.095870  1.053000e-01   \n",
            "compactness_mean              0.064920       0.092630  1.304000e-01   \n",
            "concavity_mean                0.029560       0.061540  1.307000e-01   \n",
            "concave points_mean           0.020310       0.033500  7.400000e-02   \n",
            "symmetry_mean                 0.161900       0.179200  1.957000e-01   \n",
            "fractal_dimension_mean        0.057700       0.061540  6.612000e-02   \n",
            "radius_se                     0.232400       0.324200  4.789000e-01   \n",
            "texture_se                    0.833900       1.108000  1.474000e+00   \n",
            "perimeter_se                  1.606000       2.287000  3.357000e+00   \n",
            "area_se                      17.850000      24.530000  4.519000e+01   \n",
            "smoothness_se                 0.005169       0.006380  8.146000e-03   \n",
            "compactness_se                0.013080       0.020450  3.245000e-02   \n",
            "concavity_se                  0.015090       0.025890  4.205000e-02   \n",
            "concave points_se             0.007638       0.010930  1.471000e-02   \n",
            "symmetry_se                   0.015160       0.018730  2.348000e-02   \n",
            "fractal_dimension_se          0.002248       0.003187  4.558000e-03   \n",
            "radius_worst                 13.010000      14.970000  1.879000e+01   \n",
            "texture_worst                21.080000      25.410000  2.972000e+01   \n",
            "perimeter_worst              84.110000      97.660000  1.254000e+02   \n",
            "area_worst                  515.300000     686.500000  1.084000e+03   \n",
            "smoothness_worst              0.116600       0.131300  1.460000e-01   \n",
            "compactness_worst             0.147200       0.211900  3.391000e-01   \n",
            "concavity_worst               0.114500       0.226700  3.829000e-01   \n",
            "concave points_worst          0.064930       0.099930  1.614000e-01   \n",
            "symmetry_worst                0.250400       0.282200  3.179000e-01   \n",
            "fractal_dimension_worst       0.071460       0.080040  9.208000e-02   \n",
            "Unnamed: 32                        NaN            NaN           NaN   \n",
            "\n",
            "                                  max  \n",
            "id                       9.113205e+08  \n",
            "radius_mean              2.811000e+01  \n",
            "texture_mean             3.928000e+01  \n",
            "perimeter_mean           1.885000e+02  \n",
            "area_mean                2.501000e+03  \n",
            "smoothness_mean          1.634000e-01  \n",
            "compactness_mean         3.454000e-01  \n",
            "concavity_mean           4.268000e-01  \n",
            "concave points_mean      2.012000e-01  \n",
            "symmetry_mean            3.040000e-01  \n",
            "fractal_dimension_mean   9.744000e-02  \n",
            "radius_se                2.873000e+00  \n",
            "texture_se               4.885000e+00  \n",
            "perimeter_se             2.198000e+01  \n",
            "area_se                  5.422000e+02  \n",
            "smoothness_se            3.113000e-02  \n",
            "compactness_se           1.354000e-01  \n",
            "concavity_se             3.960000e-01  \n",
            "concave points_se        5.279000e-02  \n",
            "symmetry_se              7.895000e-02  \n",
            "fractal_dimension_se     2.984000e-02  \n",
            "radius_worst             3.604000e+01  \n",
            "texture_worst            4.954000e+01  \n",
            "perimeter_worst          2.512000e+02  \n",
            "area_worst               4.254000e+03  \n",
            "smoothness_worst         2.226000e-01  \n",
            "compactness_worst        1.058000e+00  \n",
            "concavity_worst          1.252000e+00  \n",
            "concave points_worst     2.910000e-01  \n",
            "symmetry_worst           6.638000e-01  \n",
            "fractal_dimension_worst  2.075000e-01  \n",
            "Unnamed: 32                       NaN  \n"
          ]
        }
      ]
    },
    {
      "cell_type": "code",
      "source": [
        "# count the no.of null entries for every attributes, and remove the null entries, if any\n",
        "\n",
        "print(df.isnull().sum())"
      ],
      "metadata": {
        "id": "JPOGkVOJQ7hO",
        "colab": {
          "base_uri": "https://localhost:8080/"
        },
        "outputId": "64cb4d45-82a9-42c6-adb3-fb30c9844797"
      },
      "execution_count": null,
      "outputs": [
        {
          "output_type": "stream",
          "name": "stdout",
          "text": [
            "id                           0\n",
            "diagnosis                    0\n",
            "radius_mean                  0\n",
            "texture_mean                 0\n",
            "perimeter_mean               0\n",
            "area_mean                    0\n",
            "smoothness_mean              0\n",
            "compactness_mean             0\n",
            "concavity_mean               0\n",
            "concave points_mean          0\n",
            "symmetry_mean                0\n",
            "fractal_dimension_mean       0\n",
            "radius_se                    0\n",
            "texture_se                   0\n",
            "perimeter_se                 0\n",
            "area_se                      0\n",
            "smoothness_se                0\n",
            "compactness_se               0\n",
            "concavity_se                 0\n",
            "concave points_se            0\n",
            "symmetry_se                  0\n",
            "fractal_dimension_se         0\n",
            "radius_worst                 0\n",
            "texture_worst                0\n",
            "perimeter_worst              0\n",
            "area_worst                   0\n",
            "smoothness_worst             0\n",
            "compactness_worst            0\n",
            "concavity_worst              0\n",
            "concave points_worst         0\n",
            "symmetry_worst               0\n",
            "fractal_dimension_worst      0\n",
            "Unnamed: 32                569\n",
            "dtype: int64\n"
          ]
        }
      ]
    },
    {
      "cell_type": "code",
      "source": [
        "# drop the column unnamed32 which has null value\n",
        "\n",
        "df.drop(df.columns[[32]], axis = 1, inplace = True)"
      ],
      "metadata": {
        "id": "As8GzhLjVq17"
      },
      "execution_count": null,
      "outputs": []
    },
    {
      "cell_type": "code",
      "source": [
        "# Renaming Diagnosis column to Label\n",
        "\n",
        "df=df.rename(columns={'diagnosis':'Label'})"
      ],
      "metadata": {
        "id": "vdMeRUTMSThi",
        "colab": {
          "base_uri": "https://localhost:8080/"
        },
        "outputId": "7c7adb36-da98-4074-dfdf-01b933162d4b"
      },
      "execution_count": null,
      "outputs": [
        {
          "output_type": "stream",
          "name": "stdout",
          "text": [
            "id                           int64\n",
            "Label                       object\n",
            "radius_mean                float64\n",
            "texture_mean               float64\n",
            "perimeter_mean             float64\n",
            "area_mean                  float64\n",
            "smoothness_mean            float64\n",
            "compactness_mean           float64\n",
            "concavity_mean             float64\n",
            "concave points_mean        float64\n",
            "symmetry_mean              float64\n",
            "fractal_dimension_mean     float64\n",
            "radius_se                  float64\n",
            "texture_se                 float64\n",
            "perimeter_se               float64\n",
            "area_se                    float64\n",
            "smoothness_se              float64\n",
            "compactness_se             float64\n",
            "concavity_se               float64\n",
            "concave points_se          float64\n",
            "symmetry_se                float64\n",
            "fractal_dimension_se       float64\n",
            "radius_worst               float64\n",
            "texture_worst              float64\n",
            "perimeter_worst            float64\n",
            "area_worst                 float64\n",
            "smoothness_worst           float64\n",
            "compactness_worst          float64\n",
            "concavity_worst            float64\n",
            "concave points_worst       float64\n",
            "symmetry_worst             float64\n",
            "fractal_dimension_worst    float64\n",
            "dtype: object\n"
          ]
        }
      ]
    },
    {
      "cell_type": "code",
      "source": [
        "# print the datatypes of the attributes\n",
        "\n",
        "print(df.dtypes)"
      ],
      "metadata": {
        "id": "Vv2DrOrlb0GY"
      },
      "execution_count": null,
      "outputs": []
    },
    {
      "cell_type": "code",
      "source": [
        "# plot the no.of malignant and benign entries for illustration\n",
        "\n",
        "sns.countplot(x=\"Label\",data=df)"
      ],
      "metadata": {
        "id": "4UVSqB3MSVML",
        "colab": {
          "base_uri": "https://localhost:8080/",
          "height": 297
        },
        "outputId": "38db0ce0-d29b-4525-e47e-d09556a1cea5"
      },
      "execution_count": null,
      "outputs": [
        {
          "output_type": "execute_result",
          "data": {
            "text/plain": [
              "<matplotlib.axes._subplots.AxesSubplot at 0x7f79670440d0>"
            ]
          },
          "metadata": {},
          "execution_count": 21
        },
        {
          "output_type": "display_data",
          "data": {
            "text/plain": [
              "<Figure size 432x288 with 1 Axes>"
            ],
            "image/png": "[encoded data removed]"
          },
          "metadata": {
            "needs_background": "light"
          }
        }
      ]
    },
    {
      "cell_type": "code",
      "source": [
        "#Replace categorical values with numbers\n",
        "\n",
        "print(\"distribution of data:\",df['Label'].value_counts())\n",
        "\n",
        "#define the dependent variable that need to predicted\n",
        "\n",
        "y=df['Label'].values\n",
        "\n",
        "print(\"Label before encoding are:\",np.unique(y))\n",
        "\n",
        "#encoding categorical data from text(B and M) to integers(0 and 1)\n",
        "\n",
        "from sklearn.preprocessing import LabelEncoder\n",
        "\n",
        "labelencoder=LabelEncoder()\n",
        "\n",
        "Y = labelencoder.fit_transform(y)\n",
        "#M=1 B=0\n",
        "\n",
        "print(\"Label encoding after encoding:\",np.unique(Y))"
      ],
      "metadata": {
        "id": "yc_93YSTnUda",
        "colab": {
          "base_uri": "https://localhost:8080/"
        },
        "outputId": "e70539ce-095a-4169-abc6-da3642a9b756"
      },
      "execution_count": null,
      "outputs": [
        {
          "output_type": "stream",
          "name": "stdout",
          "text": [
            "distribution of data: B    357\n",
            "M    212\n",
            "Name: Label, dtype: int64\n",
            "Label before encoding are: ['B' 'M']\n",
            "Label encoding after encoding: [0 1]\n"
          ]
        }
      ]
    },
    {
      "cell_type": "code",
      "source": [
        "#define X and normalize /scale values\n",
        "#define independent variables.drop Lable and id  and normaize the other data\n",
        "\n",
        "X = df.drop(labels=[\"Label\",\"id\"],axis=1)\n",
        "print(X.describe().T)#need scaling\n",
        "print(df.shape)"
      ],
      "metadata": {
        "id": "SSToJ8VyoIXV",
        "colab": {
          "base_uri": "https://localhost:8080/"
        },
        "outputId": "b1881033-178b-4148-f9e1-54a44315a08a"
      },
      "execution_count": null,
      "outputs": [
        {
          "output_type": "stream",
          "name": "stdout",
          "text": [
            "                         count        mean         std         min  \\\n",
            "radius_mean              569.0   14.127292    3.524049    6.981000   \n",
            "texture_mean             569.0   19.289649    4.301036    9.710000   \n",
            "perimeter_mean           569.0   91.969033   24.298981   43.790000   \n",
            "area_mean                569.0  654.889104  351.914129  143.500000   \n",
            "smoothness_mean          569.0    0.096360    0.014064    0.052630   \n",
            "compactness_mean         569.0    0.104341    0.052813    0.019380   \n",
            "concavity_mean           569.0    0.088799    0.079720    0.000000   \n",
            "concave points_mean      569.0    0.048919    0.038803    0.000000   \n",
            "symmetry_mean            569.0    0.181162    0.027414    0.106000   \n",
            "fractal_dimension_mean   569.0    0.062798    0.007060    0.049960   \n",
            "radius_se                569.0    0.405172    0.277313    0.111500   \n",
            "texture_se               569.0    1.216853    0.551648    0.360200   \n",
            "perimeter_se             569.0    2.866059    2.021855    0.757000   \n",
            "area_se                  569.0   40.337079   45.491006    6.802000   \n",
            "smoothness_se            569.0    0.007041    0.003003    0.001713   \n",
            "compactness_se           569.0    0.025478    0.017908    0.002252   \n",
            "concavity_se             569.0    0.031894    0.030186    0.000000   \n",
            "concave points_se        569.0    0.011796    0.006170    0.000000   \n",
            "symmetry_se              569.0    0.020542    0.008266    0.007882   \n",
            "fractal_dimension_se     569.0    0.003795    0.002646    0.000895   \n",
            "radius_worst             569.0   16.269190    4.833242    7.930000   \n",
            "texture_worst            569.0   25.677223    6.146258   12.020000   \n",
            "perimeter_worst          569.0  107.261213   33.602542   50.410000   \n",
            "area_worst               569.0  880.583128  569.356993  185.200000   \n",
            "smoothness_worst         569.0    0.132369    0.022832    0.071170   \n",
            "compactness_worst        569.0    0.254265    0.157336    0.027290   \n",
            "concavity_worst          569.0    0.272188    0.208624    0.000000   \n",
            "concave points_worst     569.0    0.114606    0.065732    0.000000   \n",
            "symmetry_worst           569.0    0.290076    0.061867    0.156500   \n",
            "fractal_dimension_worst  569.0    0.083946    0.018061    0.055040   \n",
            "\n",
            "                                25%         50%          75%         max  \n",
            "radius_mean               11.700000   13.370000    15.780000    28.11000  \n",
            "texture_mean              16.170000   18.840000    21.800000    39.28000  \n",
            "perimeter_mean            75.170000   86.240000   104.100000   188.50000  \n",
            "area_mean                420.300000  551.100000   782.700000  2501.00000  \n",
            "smoothness_mean            0.086370    0.095870     0.105300     0.16340  \n",
            "compactness_mean           0.064920    0.092630     0.130400     0.34540  \n",
            "concavity_mean             0.029560    0.061540     0.130700     0.42680  \n",
            "concave points_mean        0.020310    0.033500     0.074000     0.20120  \n",
            "symmetry_mean              0.161900    0.179200     0.195700     0.30400  \n",
            "fractal_dimension_mean     0.057700    0.061540     0.066120     0.09744  \n",
            "radius_se                  0.232400    0.324200     0.478900     2.87300  \n",
            "texture_se                 0.833900    1.108000     1.474000     4.88500  \n",
            "perimeter_se               1.606000    2.287000     3.357000    21.98000  \n",
            "area_se                   17.850000   24.530000    45.190000   542.20000  \n",
            "smoothness_se              0.005169    0.006380     0.008146     0.03113  \n",
            "compactness_se             0.013080    0.020450     0.032450     0.13540  \n",
            "concavity_se               0.015090    0.025890     0.042050     0.39600  \n",
            "concave points_se          0.007638    0.010930     0.014710     0.05279  \n",
            "symmetry_se                0.015160    0.018730     0.023480     0.07895  \n",
            "fractal_dimension_se       0.002248    0.003187     0.004558     0.02984  \n",
            "radius_worst              13.010000   14.970000    18.790000    36.04000  \n",
            "texture_worst             21.080000   25.410000    29.720000    49.54000  \n",
            "perimeter_worst           84.110000   97.660000   125.400000   251.20000  \n",
            "area_worst               515.300000  686.500000  1084.000000  4254.00000  \n",
            "smoothness_worst           0.116600    0.131300     0.146000     0.22260  \n",
            "compactness_worst          0.147200    0.211900     0.339100     1.05800  \n",
            "concavity_worst            0.114500    0.226700     0.382900     1.25200  \n",
            "concave points_worst       0.064930    0.099930     0.161400     0.29100  \n",
            "symmetry_worst             0.250400    0.282200     0.317900     0.66380  \n",
            "fractal_dimension_worst    0.071460    0.080040     0.092080     0.20750  \n",
            "(569, 32)\n"
          ]
        }
      ]
    },
    {
      "cell_type": "code",
      "source": [
        "#scale/normalize tha values to bring to similar range\n",
        "\n",
        "from sklearn.preprocessing import MinMaxScaler\n",
        "scaler=MinMaxScaler()\n",
        "scaler.fit(X)\n",
        "X=scaler.transform(X)\n",
        "print(X)      #scaled value"
      ],
      "metadata": {
        "id": "lwoiLp6u0ztS",
        "colab": {
          "base_uri": "https://localhost:8080/"
        },
        "outputId": "36a9a841-32dd-4689-c493-6eb13a5a621f"
      },
      "execution_count": null,
      "outputs": [
        {
          "output_type": "stream",
          "name": "stdout",
          "text": [
            "[[0.52103744 0.0226581  0.54598853 ... 0.91202749 0.59846245 0.41886396]\n",
            " [0.64314449 0.27257355 0.61578329 ... 0.63917526 0.23358959 0.22287813]\n",
            " [0.60149557 0.3902604  0.59574321 ... 0.83505155 0.40370589 0.21343303]\n",
            " ...\n",
            " [0.45525108 0.62123774 0.44578813 ... 0.48728522 0.12872068 0.1519087 ]\n",
            " [0.64456434 0.66351031 0.66553797 ... 0.91065292 0.49714173 0.45231536]\n",
            " [0.03686876 0.50152181 0.02853984 ... 0.         0.25744136 0.10068215]]\n"
          ]
        }
      ]
    },
    {
      "cell_type": "code",
      "source": [
        "#Splitting data into train and test to verify accuracy after fitting the model\n",
        "\n",
        "from sklearn.model_selection import train_test_split\n",
        "X_train,X_test,y_train,y_test=train_test_split(X,Y,test_size=0.25,random_state=42)\n",
        "print(\"shape of the training data is:\",X_train.shape)\n",
        "print(\"shape of testing data is:\",X_test.shape)"
      ],
      "metadata": {
        "id": "QZDM5L_K50-f",
        "colab": {
          "base_uri": "https://localhost:8080/"
        },
        "outputId": "0ebb5373-81f6-45ea-a60d-82335730e166"
      },
      "execution_count": null,
      "outputs": [
        {
          "output_type": "stream",
          "name": "stdout",
          "text": [
            "shape of the training data is: (426, 30)\n",
            "shape of testing data is: (143, 30)\n"
          ]
        }
      ]
    },
    {
      "cell_type": "code",
      "source": [
        "# importing keras to build the neural network\n",
        "\n",
        "from keras.models import Sequential\n",
        "from keras.layers import Dense,Activation,Dropout"
      ],
      "metadata": {
        "id": "MEVZzqV67Nh_"
      },
      "execution_count": null,
      "outputs": []
    },
    {
      "cell_type": "code",
      "source": [
        "# Creating a model of 4 Dense Layers (So, total no.of layers in our CNN is 5)\n",
        "\n",
        "from operator import mod\n",
        "from pandas.core.algorithms import mode\n",
        "model = Sequential()\n",
        "model.add(Dense(20,input_dim=30,activation='relu'))\n",
        "model.add(Dropout(0.1))\n",
        "model.add(Dense(12,input_dim=20,activation='relu'))\n",
        "model.add(Dropout(0.1))\n",
        "model.add(Dense(4,input_dim=12,activation='relu'))\n",
        "model.add(Dropout(0.1))\n",
        "# model.add(Dense(2,input_dim=4,activation='relu'))\n",
        "# model.add(Dropout(0.2))\n",
        "model.add(Dense(1))\n",
        "model.add(Activation('sigmoid'))\n",
        "\n",
        "model.compile(loss='binary_crossentropy',optimizer='adam',metrics=['accuracy'])\n",
        "\n",
        "print(model.summary())"
      ],
      "metadata": {
        "id": "rurcvAFA7_co",
        "colab": {
          "base_uri": "https://localhost:8080/"
        },
        "outputId": "bf54aa38-a3cd-468e-9f24-74fa91683e5a"
      },
      "execution_count": null,
      "outputs": [
        {
          "output_type": "stream",
          "name": "stdout",
          "text": [
            "Model: \"sequential\"\n",
            "_________________________________________________________________\n",
            " Layer (type)                Output Shape              Param #   \n",
            "=================================================================\n",
            " dense (Dense)               (None, 20)                620       \n",
            "                                                                 \n",
            " dropout (Dropout)           (None, 20)                0         \n",
            "                                                                 \n",
            " dense_1 (Dense)             (None, 12)                252       \n",
            "                                                                 \n",
            " dropout_1 (Dropout)         (None, 12)                0         \n",
            "                                                                 \n",
            " dense_2 (Dense)             (None, 4)                 52        \n",
            "                                                                 \n",
            " dropout_2 (Dropout)         (None, 4)                 0         \n",
            "                                                                 \n",
            " dense_3 (Dense)             (None, 1)                 5         \n",
            "                                                                 \n",
            " activation (Activation)     (None, 1)                 0         \n",
            "                                                                 \n",
            "=================================================================\n",
            "Total params: 929\n",
            "Trainable params: 929\n",
            "Non-trainable params: 0\n",
            "_________________________________________________________________\n",
            "None\n"
          ]
        }
      ]
    },
    {
      "cell_type": "code",
      "source": [
        "# Training the model with 100 epochs and batch size as 64\n",
        "\n",
        "history=model.fit(X_train,y_train,verbose=1,epochs=100,batch_size=64,\n",
        "                 validation_data=(X_test,y_test) )"
      ],
      "metadata": {
        "id": "4WYMpT2M9nnX",
        "colab": {
          "base_uri": "https://localhost:8080/"
        },
        "outputId": "fb41ce4c-e13b-444a-e25f-bbd8b04d81d3"
      },
      "execution_count": null,
      "outputs": [
        {
          "output_type": "stream",
          "name": "stdout",
          "text": [
            "Epoch 1/100\n",
            "7/7 [==============================] - 1s 42ms/step - loss: 0.6908 - accuracy: 0.5446 - val_loss: 0.6808 - val_accuracy: 0.7133\n",
            "Epoch 2/100\n",
            "7/7 [==============================] - 0s 9ms/step - loss: 0.6815 - accuracy: 0.6362 - val_loss: 0.6688 - val_accuracy: 0.7832\n",
            "Epoch 3/100\n",
            "7/7 [==============================] - 0s 9ms/step - loss: 0.6708 - accuracy: 0.6995 - val_loss: 0.6565 - val_accuracy: 0.8252\n",
            "Epoch 4/100\n",
            "7/7 [==============================] - 0s 9ms/step - loss: 0.6637 - accuracy: 0.7324 - val_loss: 0.6432 - val_accuracy: 0.8392\n",
            "Epoch 5/100\n",
            "7/7 [==============================] - 0s 9ms/step - loss: 0.6515 - accuracy: 0.7183 - val_loss: 0.6312 - val_accuracy: 0.8392\n",
            "Epoch 6/100\n",
            "7/7 [==============================] - 0s 6ms/step - loss: 0.6456 - accuracy: 0.7418 - val_loss: 0.6186 - val_accuracy: 0.8531\n",
            "Epoch 7/100\n",
            "7/7 [==============================] - 0s 7ms/step - loss: 0.6299 - accuracy: 0.7887 - val_loss: 0.6033 - val_accuracy: 0.8741\n",
            "Epoch 8/100\n",
            "7/7 [==============================] - 0s 9ms/step - loss: 0.6152 - accuracy: 0.7793 - val_loss: 0.5859 - val_accuracy: 0.8811\n",
            "Epoch 9/100\n",
            "7/7 [==============================] - 0s 7ms/step - loss: 0.6074 - accuracy: 0.7770 - val_loss: 0.5676 - val_accuracy: 0.8741\n",
            "Epoch 10/100\n",
            "7/7 [==============================] - 0s 7ms/step - loss: 0.5874 - accuracy: 0.8099 - val_loss: 0.5462 - val_accuracy: 0.8951\n",
            "Epoch 11/100\n",
            "7/7 [==============================] - 0s 8ms/step - loss: 0.5696 - accuracy: 0.8146 - val_loss: 0.5268 - val_accuracy: 0.9091\n",
            "Epoch 12/100\n",
            "7/7 [==============================] - 0s 7ms/step - loss: 0.5558 - accuracy: 0.8333 - val_loss: 0.5037 - val_accuracy: 0.9161\n",
            "Epoch 13/100\n",
            "7/7 [==============================] - 0s 8ms/step - loss: 0.5224 - accuracy: 0.8568 - val_loss: 0.4821 - val_accuracy: 0.9161\n",
            "Epoch 14/100\n",
            "7/7 [==============================] - 0s 9ms/step - loss: 0.5224 - accuracy: 0.8310 - val_loss: 0.4621 - val_accuracy: 0.9161\n",
            "Epoch 15/100\n",
            "7/7 [==============================] - 0s 10ms/step - loss: 0.4917 - accuracy: 0.8286 - val_loss: 0.4348 - val_accuracy: 0.9231\n",
            "Epoch 16/100\n",
            "7/7 [==============================] - 0s 6ms/step - loss: 0.5008 - accuracy: 0.8239 - val_loss: 0.4125 - val_accuracy: 0.9231\n",
            "Epoch 17/100\n",
            "7/7 [==============================] - 0s 9ms/step - loss: 0.4749 - accuracy: 0.8239 - val_loss: 0.3970 - val_accuracy: 0.9231\n",
            "Epoch 18/100\n",
            "7/7 [==============================] - 0s 9ms/step - loss: 0.4505 - accuracy: 0.8685 - val_loss: 0.3735 - val_accuracy: 0.9371\n",
            "Epoch 19/100\n",
            "7/7 [==============================] - 0s 7ms/step - loss: 0.4249 - accuracy: 0.8521 - val_loss: 0.3537 - val_accuracy: 0.9301\n",
            "Epoch 20/100\n",
            "7/7 [==============================] - 0s 10ms/step - loss: 0.4166 - accuracy: 0.8474 - val_loss: 0.3356 - val_accuracy: 0.9441\n",
            "Epoch 21/100\n",
            "7/7 [==============================] - 0s 9ms/step - loss: 0.4092 - accuracy: 0.8474 - val_loss: 0.3231 - val_accuracy: 0.9231\n",
            "Epoch 22/100\n",
            "7/7 [==============================] - 0s 7ms/step - loss: 0.3946 - accuracy: 0.8662 - val_loss: 0.3038 - val_accuracy: 0.9371\n",
            "Epoch 23/100\n",
            "7/7 [==============================] - 0s 10ms/step - loss: 0.4026 - accuracy: 0.8427 - val_loss: 0.2905 - val_accuracy: 0.9371\n",
            "Epoch 24/100\n",
            "7/7 [==============================] - 0s 7ms/step - loss: 0.3570 - accuracy: 0.8756 - val_loss: 0.2722 - val_accuracy: 0.9441\n",
            "Epoch 25/100\n",
            "7/7 [==============================] - 0s 7ms/step - loss: 0.3602 - accuracy: 0.8615 - val_loss: 0.2582 - val_accuracy: 0.9441\n",
            "Epoch 26/100\n",
            "7/7 [==============================] - 0s 7ms/step - loss: 0.3595 - accuracy: 0.8568 - val_loss: 0.2514 - val_accuracy: 0.9441\n",
            "Epoch 27/100\n",
            "7/7 [==============================] - 0s 6ms/step - loss: 0.3233 - accuracy: 0.8967 - val_loss: 0.2346 - val_accuracy: 0.9510\n",
            "Epoch 28/100\n",
            "7/7 [==============================] - 0s 10ms/step - loss: 0.3272 - accuracy: 0.8850 - val_loss: 0.2251 - val_accuracy: 0.9510\n",
            "Epoch 29/100\n",
            "7/7 [==============================] - 0s 10ms/step - loss: 0.3096 - accuracy: 0.8803 - val_loss: 0.2171 - val_accuracy: 0.9441\n",
            "Epoch 30/100\n",
            "7/7 [==============================] - 0s 8ms/step - loss: 0.3015 - accuracy: 0.8920 - val_loss: 0.2052 - val_accuracy: 0.9441\n",
            "Epoch 31/100\n",
            "7/7 [==============================] - 0s 7ms/step - loss: 0.3153 - accuracy: 0.8967 - val_loss: 0.1966 - val_accuracy: 0.9510\n",
            "Epoch 32/100\n",
            "7/7 [==============================] - 0s 7ms/step - loss: 0.3097 - accuracy: 0.8826 - val_loss: 0.1912 - val_accuracy: 0.9441\n",
            "Epoch 33/100\n",
            "7/7 [==============================] - 0s 7ms/step - loss: 0.3093 - accuracy: 0.8803 - val_loss: 0.1864 - val_accuracy: 0.9371\n",
            "Epoch 34/100\n",
            "7/7 [==============================] - 0s 7ms/step - loss: 0.3018 - accuracy: 0.8803 - val_loss: 0.1776 - val_accuracy: 0.9580\n",
            "Epoch 35/100\n",
            "7/7 [==============================] - 0s 7ms/step - loss: 0.2896 - accuracy: 0.8920 - val_loss: 0.1716 - val_accuracy: 0.9510\n",
            "Epoch 36/100\n",
            "7/7 [==============================] - 0s 8ms/step - loss: 0.2789 - accuracy: 0.9038 - val_loss: 0.1661 - val_accuracy: 0.9580\n",
            "Epoch 37/100\n",
            "7/7 [==============================] - 0s 10ms/step - loss: 0.2854 - accuracy: 0.8803 - val_loss: 0.1603 - val_accuracy: 0.9580\n",
            "Epoch 38/100\n",
            "7/7 [==============================] - 0s 7ms/step - loss: 0.2883 - accuracy: 0.8873 - val_loss: 0.1548 - val_accuracy: 0.9441\n",
            "Epoch 39/100\n",
            "7/7 [==============================] - 0s 11ms/step - loss: 0.2714 - accuracy: 0.8944 - val_loss: 0.1504 - val_accuracy: 0.9510\n",
            "Epoch 40/100\n",
            "7/7 [==============================] - 0s 7ms/step - loss: 0.2918 - accuracy: 0.8803 - val_loss: 0.1466 - val_accuracy: 0.9510\n",
            "Epoch 41/100\n",
            "7/7 [==============================] - 0s 10ms/step - loss: 0.2368 - accuracy: 0.9014 - val_loss: 0.1433 - val_accuracy: 0.9441\n",
            "Epoch 42/100\n",
            "7/7 [==============================] - 0s 7ms/step - loss: 0.2609 - accuracy: 0.9038 - val_loss: 0.1389 - val_accuracy: 0.9720\n",
            "Epoch 43/100\n",
            "7/7 [==============================] - 0s 7ms/step - loss: 0.2623 - accuracy: 0.9085 - val_loss: 0.1368 - val_accuracy: 0.9720\n",
            "Epoch 44/100\n",
            "7/7 [==============================] - 0s 10ms/step - loss: 0.2577 - accuracy: 0.8897 - val_loss: 0.1309 - val_accuracy: 0.9650\n",
            "Epoch 45/100\n",
            "7/7 [==============================] - 0s 10ms/step - loss: 0.2357 - accuracy: 0.9085 - val_loss: 0.1279 - val_accuracy: 0.9650\n",
            "Epoch 46/100\n",
            "7/7 [==============================] - 0s 7ms/step - loss: 0.2367 - accuracy: 0.9155 - val_loss: 0.1270 - val_accuracy: 0.9790\n",
            "Epoch 47/100\n",
            "7/7 [==============================] - 0s 9ms/step - loss: 0.2396 - accuracy: 0.9155 - val_loss: 0.1240 - val_accuracy: 0.9790\n",
            "Epoch 48/100\n",
            "7/7 [==============================] - 0s 11ms/step - loss: 0.2444 - accuracy: 0.9085 - val_loss: 0.1182 - val_accuracy: 0.9650\n",
            "Epoch 49/100\n",
            "7/7 [==============================] - 0s 8ms/step - loss: 0.2367 - accuracy: 0.9085 - val_loss: 0.1171 - val_accuracy: 0.9790\n",
            "Epoch 50/100\n",
            "7/7 [==============================] - 0s 7ms/step - loss: 0.2268 - accuracy: 0.9249 - val_loss: 0.1146 - val_accuracy: 0.9790\n",
            "Epoch 51/100\n",
            "7/7 [==============================] - 0s 10ms/step - loss: 0.2407 - accuracy: 0.9131 - val_loss: 0.1111 - val_accuracy: 0.9650\n",
            "Epoch 52/100\n",
            "7/7 [==============================] - 0s 9ms/step - loss: 0.2099 - accuracy: 0.9296 - val_loss: 0.1104 - val_accuracy: 0.9650\n",
            "Epoch 53/100\n",
            "7/7 [==============================] - 0s 7ms/step - loss: 0.2212 - accuracy: 0.9131 - val_loss: 0.1065 - val_accuracy: 0.9790\n",
            "Epoch 54/100\n",
            "7/7 [==============================] - 0s 10ms/step - loss: 0.2089 - accuracy: 0.9343 - val_loss: 0.1106 - val_accuracy: 0.9790\n",
            "Epoch 55/100\n",
            "7/7 [==============================] - 0s 7ms/step - loss: 0.1981 - accuracy: 0.9413 - val_loss: 0.1034 - val_accuracy: 0.9790\n",
            "Epoch 56/100\n",
            "7/7 [==============================] - 0s 7ms/step - loss: 0.1958 - accuracy: 0.9460 - val_loss: 0.1010 - val_accuracy: 0.9650\n",
            "Epoch 57/100\n",
            "7/7 [==============================] - 0s 10ms/step - loss: 0.1783 - accuracy: 0.9484 - val_loss: 0.0998 - val_accuracy: 0.9650\n",
            "Epoch 58/100\n",
            "7/7 [==============================] - 0s 7ms/step - loss: 0.1885 - accuracy: 0.9484 - val_loss: 0.1000 - val_accuracy: 0.9790\n",
            "Epoch 59/100\n",
            "7/7 [==============================] - 0s 10ms/step - loss: 0.1844 - accuracy: 0.9319 - val_loss: 0.0994 - val_accuracy: 0.9860\n",
            "Epoch 60/100\n",
            "7/7 [==============================] - 0s 7ms/step - loss: 0.1872 - accuracy: 0.9319 - val_loss: 0.0925 - val_accuracy: 0.9720\n",
            "Epoch 61/100\n",
            "7/7 [==============================] - 0s 10ms/step - loss: 0.1963 - accuracy: 0.9437 - val_loss: 0.0913 - val_accuracy: 0.9720\n",
            "Epoch 62/100\n",
            "7/7 [==============================] - 0s 7ms/step - loss: 0.1980 - accuracy: 0.9437 - val_loss: 0.0906 - val_accuracy: 0.9790\n",
            "Epoch 63/100\n",
            "7/7 [==============================] - 0s 7ms/step - loss: 0.1943 - accuracy: 0.9437 - val_loss: 0.0919 - val_accuracy: 0.9790\n",
            "Epoch 64/100\n",
            "7/7 [==============================] - 0s 8ms/step - loss: 0.1609 - accuracy: 0.9601 - val_loss: 0.0920 - val_accuracy: 0.9860\n",
            "Epoch 65/100\n",
            "7/7 [==============================] - 0s 6ms/step - loss: 0.1667 - accuracy: 0.9413 - val_loss: 0.0866 - val_accuracy: 0.9720\n",
            "Epoch 66/100\n",
            "7/7 [==============================] - 0s 9ms/step - loss: 0.1742 - accuracy: 0.9437 - val_loss: 0.0852 - val_accuracy: 0.9720\n",
            "Epoch 67/100\n",
            "7/7 [==============================] - 0s 7ms/step - loss: 0.1678 - accuracy: 0.9601 - val_loss: 0.0865 - val_accuracy: 0.9790\n",
            "Epoch 68/100\n",
            "7/7 [==============================] - 0s 8ms/step - loss: 0.1670 - accuracy: 0.9507 - val_loss: 0.0842 - val_accuracy: 0.9790\n",
            "Epoch 69/100\n",
            "7/7 [==============================] - 0s 8ms/step - loss: 0.1727 - accuracy: 0.9460 - val_loss: 0.0810 - val_accuracy: 0.9720\n",
            "Epoch 70/100\n",
            "7/7 [==============================] - 0s 10ms/step - loss: 0.1611 - accuracy: 0.9648 - val_loss: 0.0800 - val_accuracy: 0.9720\n",
            "Epoch 71/100\n",
            "7/7 [==============================] - 0s 7ms/step - loss: 0.1983 - accuracy: 0.9413 - val_loss: 0.0840 - val_accuracy: 0.9790\n",
            "Epoch 72/100\n",
            "7/7 [==============================] - 0s 7ms/step - loss: 0.1601 - accuracy: 0.9437 - val_loss: 0.0825 - val_accuracy: 0.9790\n",
            "Epoch 73/100\n",
            "7/7 [==============================] - 0s 9ms/step - loss: 0.1600 - accuracy: 0.9460 - val_loss: 0.0806 - val_accuracy: 0.9720\n",
            "Epoch 74/100\n",
            "7/7 [==============================] - 0s 10ms/step - loss: 0.1560 - accuracy: 0.9554 - val_loss: 0.0800 - val_accuracy: 0.9720\n",
            "Epoch 75/100\n",
            "7/7 [==============================] - 0s 7ms/step - loss: 0.1356 - accuracy: 0.9648 - val_loss: 0.0796 - val_accuracy: 0.9720\n",
            "Epoch 76/100\n",
            "7/7 [==============================] - 0s 7ms/step - loss: 0.1581 - accuracy: 0.9531 - val_loss: 0.0817 - val_accuracy: 0.9790\n",
            "Epoch 77/100\n",
            "7/7 [==============================] - 0s 7ms/step - loss: 0.1558 - accuracy: 0.9577 - val_loss: 0.0808 - val_accuracy: 0.9790\n",
            "Epoch 78/100\n",
            "7/7 [==============================] - 0s 7ms/step - loss: 0.1297 - accuracy: 0.9695 - val_loss: 0.0796 - val_accuracy: 0.9790\n",
            "Epoch 79/100\n",
            "7/7 [==============================] - 0s 8ms/step - loss: 0.1374 - accuracy: 0.9601 - val_loss: 0.0769 - val_accuracy: 0.9720\n",
            "Epoch 80/100\n",
            "7/7 [==============================] - 0s 7ms/step - loss: 0.1161 - accuracy: 0.9671 - val_loss: 0.0764 - val_accuracy: 0.9720\n",
            "Epoch 81/100\n",
            "7/7 [==============================] - 0s 8ms/step - loss: 0.1533 - accuracy: 0.9577 - val_loss: 0.0770 - val_accuracy: 0.9790\n",
            "Epoch 82/100\n",
            "7/7 [==============================] - 0s 11ms/step - loss: 0.1476 - accuracy: 0.9601 - val_loss: 0.0749 - val_accuracy: 0.9650\n",
            "Epoch 83/100\n",
            "7/7 [==============================] - 0s 7ms/step - loss: 0.1477 - accuracy: 0.9531 - val_loss: 0.0754 - val_accuracy: 0.9790\n",
            "Epoch 84/100\n",
            "7/7 [==============================] - 0s 10ms/step - loss: 0.1355 - accuracy: 0.9577 - val_loss: 0.0745 - val_accuracy: 0.9790\n",
            "Epoch 85/100\n",
            "7/7 [==============================] - 0s 8ms/step - loss: 0.1331 - accuracy: 0.9624 - val_loss: 0.0730 - val_accuracy: 0.9720\n",
            "Epoch 86/100\n",
            "7/7 [==============================] - 0s 7ms/step - loss: 0.1485 - accuracy: 0.9577 - val_loss: 0.0736 - val_accuracy: 0.9790\n",
            "Epoch 87/100\n",
            "7/7 [==============================] - 0s 7ms/step - loss: 0.1333 - accuracy: 0.9577 - val_loss: 0.0765 - val_accuracy: 0.9790\n",
            "Epoch 88/100\n",
            "7/7 [==============================] - 0s 7ms/step - loss: 0.1479 - accuracy: 0.9554 - val_loss: 0.0715 - val_accuracy: 0.9790\n",
            "Epoch 89/100\n",
            "7/7 [==============================] - 0s 9ms/step - loss: 0.1600 - accuracy: 0.9531 - val_loss: 0.0715 - val_accuracy: 0.9720\n",
            "Epoch 90/100\n",
            "7/7 [==============================] - 0s 10ms/step - loss: 0.1116 - accuracy: 0.9765 - val_loss: 0.0722 - val_accuracy: 0.9790\n",
            "Epoch 91/100\n",
            "7/7 [==============================] - 0s 7ms/step - loss: 0.1184 - accuracy: 0.9742 - val_loss: 0.0760 - val_accuracy: 0.9790\n",
            "Epoch 92/100\n",
            "7/7 [==============================] - 0s 9ms/step - loss: 0.1365 - accuracy: 0.9671 - val_loss: 0.0705 - val_accuracy: 0.9720\n",
            "Epoch 93/100\n",
            "7/7 [==============================] - 0s 10ms/step - loss: 0.1316 - accuracy: 0.9601 - val_loss: 0.0710 - val_accuracy: 0.9720\n",
            "Epoch 94/100\n",
            "7/7 [==============================] - 0s 10ms/step - loss: 0.1209 - accuracy: 0.9624 - val_loss: 0.0716 - val_accuracy: 0.9790\n",
            "Epoch 95/100\n",
            "7/7 [==============================] - 0s 7ms/step - loss: 0.1169 - accuracy: 0.9695 - val_loss: 0.0707 - val_accuracy: 0.9720\n",
            "Epoch 96/100\n",
            "7/7 [==============================] - 0s 8ms/step - loss: 0.1322 - accuracy: 0.9671 - val_loss: 0.0698 - val_accuracy: 0.9720\n",
            "Epoch 97/100\n",
            "7/7 [==============================] - 0s 7ms/step - loss: 0.1282 - accuracy: 0.9742 - val_loss: 0.0698 - val_accuracy: 0.9720\n",
            "Epoch 98/100\n",
            "7/7 [==============================] - 0s 7ms/step - loss: 0.1259 - accuracy: 0.9695 - val_loss: 0.0792 - val_accuracy: 0.9790\n",
            "Epoch 99/100\n",
            "7/7 [==============================] - 0s 8ms/step - loss: 0.1282 - accuracy: 0.9601 - val_loss: 0.0702 - val_accuracy: 0.9790\n",
            "Epoch 100/100\n",
            "7/7 [==============================] - 0s 7ms/step - loss: 0.1257 - accuracy: 0.9718 - val_loss: 0.0749 - val_accuracy: 0.9790\n"
          ]
        }
      ]
    },
    {
      "cell_type": "code",
      "source": [
        "# plot the training and validation accuracy and loss at each epoch\n",
        "\n",
        "loss=history.history['loss']\n",
        "val_loss=history.history['val_loss']\n",
        "epochs=range(1,len(loss)+1)\n",
        "plt.plot(epochs,loss,'y',label='Training loss')\n",
        "plt.plot(epochs,val_loss,'r',label='validation loss')\n",
        "plt.title('Training and validation loss')\n",
        "plt.xlabel('Epochs')\n",
        "plt.ylabel('Loss')\n",
        "plt.legend()\n",
        "plt.show()\n",
        "\n",
        "acc =history.history['accuracy'] \n",
        "val_acc=history.history['val_accuracy']\n",
        "plt.plot(epochs,acc,'y',label='Training acc')\n",
        "plt.plot(epochs,val_acc,'r',label='validation acc')\n",
        "plt.title('Traning and validation accuracy')\n",
        "plt.xlabel('Epochs')\n",
        "plt.ylabel('Accuracy')\n",
        "plt.legend()\n",
        "plt.show() "
      ],
      "metadata": {
        "id": "DEAhF3GQOGcn",
        "colab": {
          "base_uri": "https://localhost:8080/",
          "height": 573
        },
        "outputId": "fb29a641-7181-4bd8-f5c1-f22b560676fc"
      },
      "execution_count": null,
      "outputs": [
        {
          "output_type": "display_data",
          "data": {
            "text/plain": [
              "<Figure size 432x288 with 1 Axes>"
            ],
            "image/png": "[encoded data removed]"
          },
          "metadata": {
            "needs_background": "light"
          }
        },
        {
          "output_type": "display_data",
          "data": {
            "text/plain": [
              "<Figure size 432x288 with 1 Axes>"
            ],
            "image/png": "[encoded data removed]"
          },
          "metadata": {
            "needs_background": "light"
          }
        }
      ]
    },
    {
      "cell_type": "code",
      "source": [
        "# predicting the test set result \n",
        "\n",
        "y_pred = model.predict(X_test)\n",
        "y_pred = (y_pred>0.5)\n",
        "\n",
        "# generating the confusion matrix\n",
        "\n",
        "from sklearn.metrics import confusion_matrix\n",
        "\n",
        "cm=confusion_matrix(y_test,y_pred)\n",
        "sns.heatmap(cm,annot=True)"
      ],
      "metadata": {
        "id": "kC4J3lNU_W4m",
        "colab": {
          "base_uri": "https://localhost:8080/",
          "height": 283
        },
        "outputId": "e011392c-a808-4c14-ff21-bb4d516a994f"
      },
      "execution_count": null,
      "outputs": [
        {
          "output_type": "execute_result",
          "data": {
            "text/plain": [
              "<matplotlib.axes._subplots.AxesSubplot at 0x7f78f6092350>"
            ]
          },
          "metadata": {},
          "execution_count": 30
        },
        {
          "output_type": "display_data",
          "data": {
            "text/plain": [
              "<Figure size 432x288 with 2 Axes>"
            ],
            "image/png": "[encoded data removed]"
          },
          "metadata": {
            "needs_background": "light"
          }
        }
      ]
    }
  ]
}
